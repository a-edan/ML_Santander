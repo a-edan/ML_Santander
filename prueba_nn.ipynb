{
 "cells": [
  {
   "cell_type": "code",
   "execution_count": 152,
   "metadata": {},
   "outputs": [],
   "source": [
    "import pandas as pd\n",
    "import numpy as np\n",
    "import matplotlib.pyplot as plt\n",
    "import seaborn as sns"
   ]
  },
  {
   "cell_type": "code",
   "execution_count": 112,
   "metadata": {},
   "outputs": [
    {
     "name": "stderr",
     "output_type": "stream",
     "text": [
      "C:\\Users\\O002091\\AppData\\Local\\Temp\\ipykernel_22296\\2600175016.py:1: DtypeWarning: Columns (5,9,11) have mixed types. Specify dtype option on import or set low_memory=False.\n",
      "  df = pd.read_csv('dataset_para_modelar.csv')\n"
     ]
    }
   ],
   "source": [
    "df = pd.read_csv('dataset_para_modelar.csv')"
   ]
  },
  {
   "cell_type": "code",
   "execution_count": 113,
   "metadata": {},
   "outputs": [],
   "source": [
    "df = df.drop('Unnamed: 0', axis=1)"
   ]
  },
  {
   "cell_type": "code",
   "execution_count": 114,
   "metadata": {},
   "outputs": [
    {
     "data": {
      "text/html": [
       "<div>\n",
       "<style scoped>\n",
       "    .dataframe tbody tr th:only-of-type {\n",
       "        vertical-align: middle;\n",
       "    }\n",
       "\n",
       "    .dataframe tbody tr th {\n",
       "        vertical-align: top;\n",
       "    }\n",
       "\n",
       "    .dataframe thead th {\n",
       "        text-align: right;\n",
       "    }\n",
       "</style>\n",
       "<table border=\"1\" class=\"dataframe\">\n",
       "  <thead>\n",
       "    <tr style=\"text-align: right;\">\n",
       "      <th></th>\n",
       "      <th>cod_persona</th>\n",
       "      <th>mes</th>\n",
       "      <th>pais</th>\n",
       "      <th>sexo</th>\n",
       "      <th>edad</th>\n",
       "      <th>fecha1</th>\n",
       "      <th>xti_empleado</th>\n",
       "      <th>xti_nuevo_cliente</th>\n",
       "      <th>num_antiguedad</th>\n",
       "      <th>xti_rel</th>\n",
       "      <th>...</th>\n",
       "      <th>ind_prod16</th>\n",
       "      <th>ind_prod17</th>\n",
       "      <th>ind_prod18</th>\n",
       "      <th>ind_prod19</th>\n",
       "      <th>ind_prod20</th>\n",
       "      <th>ind_prod21</th>\n",
       "      <th>ind_prod22</th>\n",
       "      <th>ind_prod23</th>\n",
       "      <th>ind_prod24</th>\n",
       "      <th>ind_prod25</th>\n",
       "    </tr>\n",
       "  </thead>\n",
       "  <tbody>\n",
       "    <tr>\n",
       "      <th>0</th>\n",
       "      <td>178103</td>\n",
       "      <td>2015-01-28</td>\n",
       "      <td>ES</td>\n",
       "      <td>H</td>\n",
       "      <td>35</td>\n",
       "      <td>2015-01-12</td>\n",
       "      <td>N</td>\n",
       "      <td>0.0</td>\n",
       "      <td>6</td>\n",
       "      <td>1.0</td>\n",
       "      <td>...</td>\n",
       "      <td>0</td>\n",
       "      <td>0</td>\n",
       "      <td>0</td>\n",
       "      <td>0</td>\n",
       "      <td>0</td>\n",
       "      <td>0</td>\n",
       "      <td>0.0</td>\n",
       "      <td>0.0</td>\n",
       "      <td>0</td>\n",
       "      <td>0</td>\n",
       "    </tr>\n",
       "    <tr>\n",
       "      <th>1</th>\n",
       "      <td>503082</td>\n",
       "      <td>2015-01-28</td>\n",
       "      <td>ES</td>\n",
       "      <td>V</td>\n",
       "      <td>27</td>\n",
       "      <td>2012-08-10</td>\n",
       "      <td>N</td>\n",
       "      <td>0.0</td>\n",
       "      <td>35</td>\n",
       "      <td>1.0</td>\n",
       "      <td>...</td>\n",
       "      <td>0</td>\n",
       "      <td>0</td>\n",
       "      <td>0</td>\n",
       "      <td>0</td>\n",
       "      <td>0</td>\n",
       "      <td>0</td>\n",
       "      <td>0.0</td>\n",
       "      <td>0.0</td>\n",
       "      <td>0</td>\n",
       "      <td>0</td>\n",
       "    </tr>\n",
       "    <tr>\n",
       "      <th>2</th>\n",
       "      <td>502996</td>\n",
       "      <td>2015-01-28</td>\n",
       "      <td>ES</td>\n",
       "      <td>V</td>\n",
       "      <td>37</td>\n",
       "      <td>2012-08-10</td>\n",
       "      <td>N</td>\n",
       "      <td>0.0</td>\n",
       "      <td>35</td>\n",
       "      <td>1.0</td>\n",
       "      <td>...</td>\n",
       "      <td>0</td>\n",
       "      <td>0</td>\n",
       "      <td>0</td>\n",
       "      <td>0</td>\n",
       "      <td>0</td>\n",
       "      <td>0</td>\n",
       "      <td>0.0</td>\n",
       "      <td>0.0</td>\n",
       "      <td>0</td>\n",
       "      <td>0</td>\n",
       "    </tr>\n",
       "    <tr>\n",
       "      <th>3</th>\n",
       "      <td>503053</td>\n",
       "      <td>2015-01-28</td>\n",
       "      <td>ES</td>\n",
       "      <td>H</td>\n",
       "      <td>23</td>\n",
       "      <td>2012-08-10</td>\n",
       "      <td>N</td>\n",
       "      <td>0.0</td>\n",
       "      <td>35</td>\n",
       "      <td>1.0</td>\n",
       "      <td>...</td>\n",
       "      <td>0</td>\n",
       "      <td>0</td>\n",
       "      <td>0</td>\n",
       "      <td>0</td>\n",
       "      <td>0</td>\n",
       "      <td>0</td>\n",
       "      <td>0.0</td>\n",
       "      <td>0.0</td>\n",
       "      <td>1</td>\n",
       "      <td>0</td>\n",
       "    </tr>\n",
       "    <tr>\n",
       "      <th>4</th>\n",
       "      <td>503031</td>\n",
       "      <td>2015-01-28</td>\n",
       "      <td>ES</td>\n",
       "      <td>H</td>\n",
       "      <td>44</td>\n",
       "      <td>2012-08-10</td>\n",
       "      <td>N</td>\n",
       "      <td>0.0</td>\n",
       "      <td>35</td>\n",
       "      <td>1.0</td>\n",
       "      <td>...</td>\n",
       "      <td>0</td>\n",
       "      <td>0</td>\n",
       "      <td>0</td>\n",
       "      <td>0</td>\n",
       "      <td>0</td>\n",
       "      <td>0</td>\n",
       "      <td>0.0</td>\n",
       "      <td>0.0</td>\n",
       "      <td>0</td>\n",
       "      <td>0</td>\n",
       "    </tr>\n",
       "  </tbody>\n",
       "</table>\n",
       "<p>5 rows × 48 columns</p>\n",
       "</div>"
      ],
      "text/plain": [
       "   cod_persona         mes pais sexo edad      fecha1 xti_empleado  \\\n",
       "0       178103  2015-01-28   ES    H   35  2015-01-12            N   \n",
       "1       503082  2015-01-28   ES    V   27  2012-08-10            N   \n",
       "2       502996  2015-01-28   ES    V   37  2012-08-10            N   \n",
       "3       503053  2015-01-28   ES    H   23  2012-08-10            N   \n",
       "4       503031  2015-01-28   ES    H   44  2012-08-10            N   \n",
       "\n",
       "   xti_nuevo_cliente num_antiguedad  xti_rel  ... ind_prod16  ind_prod17  \\\n",
       "0                0.0              6      1.0  ...          0           0   \n",
       "1                0.0             35      1.0  ...          0           0   \n",
       "2                0.0             35      1.0  ...          0           0   \n",
       "3                0.0             35      1.0  ...          0           0   \n",
       "4                0.0             35      1.0  ...          0           0   \n",
       "\n",
       "  ind_prod18 ind_prod19 ind_prod20 ind_prod21 ind_prod22  ind_prod23  \\\n",
       "0          0          0          0          0        0.0         0.0   \n",
       "1          0          0          0          0        0.0         0.0   \n",
       "2          0          0          0          0        0.0         0.0   \n",
       "3          0          0          0          0        0.0         0.0   \n",
       "4          0          0          0          0        0.0         0.0   \n",
       "\n",
       "   ind_prod24  ind_prod25  \n",
       "0           0           0  \n",
       "1           0           0  \n",
       "2           0           0  \n",
       "3           1           0  \n",
       "4           0           0  \n",
       "\n",
       "[5 rows x 48 columns]"
      ]
     },
     "execution_count": 114,
     "metadata": {},
     "output_type": "execute_result"
    }
   ],
   "source": [
    "df.head()"
   ]
  },
  {
   "cell_type": "code",
   "execution_count": 115,
   "metadata": {},
   "outputs": [],
   "source": [
    "def calculate_sign_product(df, product, sign_product):\n",
    "    # Sort the DataFrame by person_id and month\n",
    "    df = df.sort_values(by=['cod_persona', 'mes']).reset_index(drop=True)\n",
    "\n",
    "    # Create a new column \"sign_product\" initialized with 0\n",
    "    df[sign_product] = 0\n",
    "\n",
    "    # Iterate over the rows of the DataFrame\n",
    "    for i in range(1, len(df)):\n",
    "        # Check if the current month's product is 0 and the next month's product is 1\n",
    "        if df.loc[i-1, product] == 0 and df.loc[i, product] == 1 and df.loc[i-1, 'cod_persona'] == df.loc[i, 'cod_persona']:\n",
    "            df.loc[i-1, sign_product] = 1\n",
    "\n",
    "    return df"
   ]
  },
  {
   "cell_type": "code",
   "execution_count": 116,
   "metadata": {},
   "outputs": [],
   "source": [
    "prods = df.columns.tolist()[-25:]\n",
    "sign_prods = ['sign_prod' + str(i) for i in range(1,26)]"
   ]
  },
  {
   "cell_type": "code",
   "execution_count": 117,
   "metadata": {},
   "outputs": [],
   "source": [
    "for i in range(len(prods)):\n",
    "    df = calculate_sign_product(df,prods[i],sign_prods[i])"
   ]
  },
  {
   "cell_type": "code",
   "execution_count": 205,
   "metadata": {},
   "outputs": [],
   "source": [
    "def cat_biv_plot(df, target_col, categorical_col):\n",
    "    # Filter the DataFrame based on the target variable values\n",
    "    target_0 = df[df[target_col] == 0]\n",
    "    target_1 = df[df[target_col] == 1]\n",
    "\n",
    "    # Plot the bivariate relationship using a bar plot\n",
    "    sns.countplot(x=categorical_col, hue=target_col, data=df)\n",
    "\n",
    "    # Set labels and title\n",
    "    plt.xlabel(categorical_col)\n",
    "    plt.ylabel('Count')\n",
    "    plt.title(f'Bivariate Plot: {target_col} vs {categorical_col}')\n",
    "\n",
    "    # Add legend\n",
    "    plt.legend(title=target_col)\n",
    "\n",
    "    # Show the plot\n",
    "    plt.show()\n"
   ]
  },
  {
   "cell_type": "code",
   "execution_count": 203,
   "metadata": {},
   "outputs": [],
   "source": [
    "def num_biv_plot(df, target_col, numeric_col):\n",
    "    # Filter the DataFrame for each target category\n",
    "    target_0 = df[df[target_col] == 0]\n",
    "    target_1 = df[df[target_col] == 1]\n",
    "\n",
    "    # Plot kernel density estimation for target 0 and target 1\n",
    "    sns.kdeplot(target_0[numeric_col], color='blue', label='Target 0', bw_adjust=0.05)\n",
    "    sns.kdeplot(target_1[numeric_col], color='green', label='Target 1', bw_adjust=0.05)\n",
    "\n",
    "    # Set labels and title\n",
    "    plt.xlabel(numeric_col)\n",
    "    plt.ylabel('Density')\n",
    "    plt.title(f'Bivariate Plot: {target_col} vs {numeric_col}')\n",
    "\n",
    "    # Add legend\n",
    "    plt.legend()\n",
    "\n",
    "    # Show the plot\n",
    "    plt.show()\n"
   ]
  },
  {
   "cell_type": "code",
   "execution_count": 209,
   "metadata": {},
   "outputs": [
    {
     "data": {
      "image/png": "[encoded data removed]",
      "text/plain": [
       "<Figure size 432x288 with 1 Axes>"
      ]
     },
     "metadata": {
      "needs_background": "light"
     },
     "output_type": "display_data"
    },
    {
     "data": {
      "image/png": "[encoded data removed]",
      "text/plain": [
       "<Figure size 432x288 with 1 Axes>"
      ]
     },
     "metadata": {
      "needs_background": "light"
     },
     "output_type": "display_data"
    }
   ],
   "source": [
    "cat_biv_plot(df, 'ind_prod3', 'xti_rel')\n",
    "cat_biv_plot(df, 'sign_prod3', 'xti_rel')"
   ]
  },
  {
   "cell_type": "code",
   "execution_count": 207,
   "metadata": {},
   "outputs": [
    {
     "data": {
      "image/png": "[encoded data removed]",
      "text/plain": [
       "<Figure size 432x288 with 1 Axes>"
      ]
     },
     "metadata": {
      "needs_background": "light"
     },
     "output_type": "display_data"
    },
    {
     "data": {
      "image/png": "[encoded data removed]",
      "text/plain": [
       "<Figure size 432x288 with 1 Axes>"
      ]
     },
     "metadata": {
      "needs_background": "light"
     },
     "output_type": "display_data"
    }
   ],
   "source": [
    "num_biv_plot(df, 'ind_prod19', 'imp_renta')\n",
    "num_biv_plot(df, 'sign_prod19', 'imp_renta')"
   ]
  },
  {
   "cell_type": "code",
   "execution_count": 175,
   "metadata": {},
   "outputs": [],
   "source": [
    "count_prods = [df[prod].value_counts() for prod in prods]\n",
    "count_signprods = [df[prod].value_counts() for prod in sign_prods]\n",
    "# Create a new DataFrame to store the value counts\n",
    "count_prods_df = pd.DataFrame({prods[i]: [count_prods[i].get(0, 0), count_prods[i].get(1, 0)] for i in range(len(prods))},\n",
    "                             index=[0, 1])\n",
    "count_signprods_df = pd.DataFrame({sign_prods[i]: [count_signprods[i].get(0, 0), count_signprods[i].get(1, 0)] for i in range(len(sign_prods))},\n",
    "                             index=[0, 1])"
   ]
  },
  {
   "cell_type": "code",
   "execution_count": 183,
   "metadata": {},
   "outputs": [
    {
     "data": {
      "text/html": [
       "<div>\n",
       "<style scoped>\n",
       "    .dataframe tbody tr th:only-of-type {\n",
       "        vertical-align: middle;\n",
       "    }\n",
       "\n",
       "    .dataframe tbody tr th {\n",
       "        vertical-align: top;\n",
       "    }\n",
       "\n",
       "    .dataframe thead th {\n",
       "        text-align: right;\n",
       "    }\n",
       "</style>\n",
       "<table border=\"1\" class=\"dataframe\">\n",
       "  <thead>\n",
       "    <tr style=\"text-align: right;\">\n",
       "      <th></th>\n",
       "      <th>ind_prod1</th>\n",
       "      <th>ind_prod2</th>\n",
       "      <th>ind_prod3</th>\n",
       "      <th>ind_prod4</th>\n",
       "      <th>ind_prod5</th>\n",
       "      <th>ind_prod6</th>\n",
       "      <th>ind_prod7</th>\n",
       "      <th>ind_prod8</th>\n",
       "      <th>ind_prod9</th>\n",
       "      <th>ind_prod10</th>\n",
       "      <th>...</th>\n",
       "      <th>ind_prod16</th>\n",
       "      <th>ind_prod17</th>\n",
       "      <th>ind_prod18</th>\n",
       "      <th>ind_prod19</th>\n",
       "      <th>ind_prod20</th>\n",
       "      <th>ind_prod21</th>\n",
       "      <th>ind_prod22</th>\n",
       "      <th>ind_prod23</th>\n",
       "      <th>ind_prod24</th>\n",
       "      <th>ind_prod25</th>\n",
       "    </tr>\n",
       "  </thead>\n",
       "  <tbody>\n",
       "    <tr>\n",
       "      <th>0</th>\n",
       "      <td>634618</td>\n",
       "      <td>634682</td>\n",
       "      <td>215192</td>\n",
       "      <td>634368</td>\n",
       "      <td>582803</td>\n",
       "      <td>628340</td>\n",
       "      <td>628446</td>\n",
       "      <td>550962</td>\n",
       "      <td>607071</td>\n",
       "      <td>633390</td>\n",
       "      <td>...</td>\n",
       "      <td>628803</td>\n",
       "      <td>632957</td>\n",
       "      <td>600678</td>\n",
       "      <td>605801</td>\n",
       "      <td>617861</td>\n",
       "      <td>632298</td>\n",
       "      <td>599389</td>\n",
       "      <td>596385</td>\n",
       "      <td>552918</td>\n",
       "      <td>592872</td>\n",
       "    </tr>\n",
       "    <tr>\n",
       "      <th>1</th>\n",
       "      <td>64</td>\n",
       "      <td>0</td>\n",
       "      <td>419490</td>\n",
       "      <td>314</td>\n",
       "      <td>51879</td>\n",
       "      <td>6342</td>\n",
       "      <td>6236</td>\n",
       "      <td>83720</td>\n",
       "      <td>27611</td>\n",
       "      <td>1292</td>\n",
       "      <td>...</td>\n",
       "      <td>5879</td>\n",
       "      <td>1725</td>\n",
       "      <td>34004</td>\n",
       "      <td>28881</td>\n",
       "      <td>16821</td>\n",
       "      <td>2384</td>\n",
       "      <td>35262</td>\n",
       "      <td>38266</td>\n",
       "      <td>81764</td>\n",
       "      <td>41810</td>\n",
       "    </tr>\n",
       "  </tbody>\n",
       "</table>\n",
       "<p>2 rows × 25 columns</p>\n",
       "</div>"
      ],
      "text/plain": [
       "   ind_prod1  ind_prod2  ind_prod3  ind_prod4  ind_prod5  ind_prod6  \\\n",
       "0     634618     634682     215192     634368     582803     628340   \n",
       "1         64          0     419490        314      51879       6342   \n",
       "\n",
       "   ind_prod7  ind_prod8  ind_prod9  ind_prod10  ...  ind_prod16  ind_prod17  \\\n",
       "0     628446     550962     607071      633390  ...      628803      632957   \n",
       "1       6236      83720      27611        1292  ...        5879        1725   \n",
       "\n",
       "   ind_prod18  ind_prod19  ind_prod20  ind_prod21  ind_prod22  ind_prod23  \\\n",
       "0      600678      605801      617861      632298      599389      596385   \n",
       "1       34004       28881       16821        2384       35262       38266   \n",
       "\n",
       "   ind_prod24  ind_prod25  \n",
       "0      552918      592872  \n",
       "1       81764       41810  \n",
       "\n",
       "[2 rows x 25 columns]"
      ]
     },
     "execution_count": 183,
     "metadata": {},
     "output_type": "execute_result"
    }
   ],
   "source": [
    "count_prods_df"
   ]
  },
  {
   "cell_type": "code",
   "execution_count": 181,
   "metadata": {},
   "outputs": [
    {
     "data": {
      "text/html": [
       "<div>\n",
       "<style scoped>\n",
       "    .dataframe tbody tr th:only-of-type {\n",
       "        vertical-align: middle;\n",
       "    }\n",
       "\n",
       "    .dataframe tbody tr th {\n",
       "        vertical-align: top;\n",
       "    }\n",
       "\n",
       "    .dataframe thead th {\n",
       "        text-align: right;\n",
       "    }\n",
       "</style>\n",
       "<table border=\"1\" class=\"dataframe\">\n",
       "  <thead>\n",
       "    <tr style=\"text-align: right;\">\n",
       "      <th></th>\n",
       "      <th>sign_prod1</th>\n",
       "      <th>sign_prod2</th>\n",
       "      <th>sign_prod3</th>\n",
       "      <th>sign_prod4</th>\n",
       "      <th>sign_prod5</th>\n",
       "      <th>sign_prod6</th>\n",
       "      <th>sign_prod7</th>\n",
       "      <th>sign_prod8</th>\n",
       "      <th>sign_prod9</th>\n",
       "      <th>sign_prod10</th>\n",
       "      <th>...</th>\n",
       "      <th>sign_prod16</th>\n",
       "      <th>sign_prod17</th>\n",
       "      <th>sign_prod18</th>\n",
       "      <th>sign_prod19</th>\n",
       "      <th>sign_prod20</th>\n",
       "      <th>sign_prod21</th>\n",
       "      <th>sign_prod22</th>\n",
       "      <th>sign_prod23</th>\n",
       "      <th>sign_prod24</th>\n",
       "      <th>sign_prod25</th>\n",
       "    </tr>\n",
       "  </thead>\n",
       "  <tbody>\n",
       "    <tr>\n",
       "      <th>0</th>\n",
       "      <td>634682</td>\n",
       "      <td>634682</td>\n",
       "      <td>631364</td>\n",
       "      <td>634675</td>\n",
       "      <td>632923</td>\n",
       "      <td>634661</td>\n",
       "      <td>634332</td>\n",
       "      <td>634501</td>\n",
       "      <td>634594</td>\n",
       "      <td>634528</td>\n",
       "      <td>...</td>\n",
       "      <td>634653</td>\n",
       "      <td>634676</td>\n",
       "      <td>634258</td>\n",
       "      <td>631393</td>\n",
       "      <td>634466</td>\n",
       "      <td>634677</td>\n",
       "      <td>631257</td>\n",
       "      <td>630669</td>\n",
       "      <td>627718</td>\n",
       "      <td>631656</td>\n",
       "    </tr>\n",
       "    <tr>\n",
       "      <th>1</th>\n",
       "      <td>0</td>\n",
       "      <td>0</td>\n",
       "      <td>3318</td>\n",
       "      <td>7</td>\n",
       "      <td>1759</td>\n",
       "      <td>21</td>\n",
       "      <td>350</td>\n",
       "      <td>181</td>\n",
       "      <td>88</td>\n",
       "      <td>154</td>\n",
       "      <td>...</td>\n",
       "      <td>29</td>\n",
       "      <td>6</td>\n",
       "      <td>424</td>\n",
       "      <td>3289</td>\n",
       "      <td>216</td>\n",
       "      <td>5</td>\n",
       "      <td>3425</td>\n",
       "      <td>4013</td>\n",
       "      <td>6964</td>\n",
       "      <td>3026</td>\n",
       "    </tr>\n",
       "  </tbody>\n",
       "</table>\n",
       "<p>2 rows × 25 columns</p>\n",
       "</div>"
      ],
      "text/plain": [
       "   sign_prod1  sign_prod2  sign_prod3  sign_prod4  sign_prod5  sign_prod6  \\\n",
       "0      634682      634682      631364      634675      632923      634661   \n",
       "1           0           0        3318           7        1759          21   \n",
       "\n",
       "   sign_prod7  sign_prod8  sign_prod9  sign_prod10  ...  sign_prod16  \\\n",
       "0      634332      634501      634594       634528  ...       634653   \n",
       "1         350         181          88          154  ...           29   \n",
       "\n",
       "   sign_prod17  sign_prod18  sign_prod19  sign_prod20  sign_prod21  \\\n",
       "0       634676       634258       631393       634466       634677   \n",
       "1            6          424         3289          216            5   \n",
       "\n",
       "   sign_prod22  sign_prod23  sign_prod24  sign_prod25  \n",
       "0       631257       630669       627718       631656  \n",
       "1         3425         4013         6964         3026  \n",
       "\n",
       "[2 rows x 25 columns]"
      ]
     },
     "execution_count": 181,
     "metadata": {},
     "output_type": "execute_result"
    }
   ],
   "source": [
    "count_signprods_df"
   ]
  },
  {
   "cell_type": "code",
   "execution_count": 176,
   "metadata": {},
   "outputs": [
    {
     "data": {
      "text/plain": [
       "{'ind_prod1': 25,\n",
       " 'ind_prod2': 25,\n",
       " 'ind_prod3': 25,\n",
       " 'ind_prod4': 25,\n",
       " 'ind_prod5': 25,\n",
       " 'ind_prod6': 25,\n",
       " 'ind_prod7': 25,\n",
       " 'ind_prod8': 25,\n",
       " 'ind_prod9': 25,\n",
       " 'ind_prod10': 25,\n",
       " 'ind_prod11': 25,\n",
       " 'ind_prod12': 25,\n",
       " 'ind_prod13': 25,\n",
       " 'ind_prod14': 25,\n",
       " 'ind_prod15': 25,\n",
       " 'ind_prod16': 25,\n",
       " 'ind_prod17': 25,\n",
       " 'ind_prod18': 25,\n",
       " 'ind_prod19': 25,\n",
       " 'ind_prod20': 25,\n",
       " 'ind_prod21': 25,\n",
       " 'ind_prod22': 25,\n",
       " 'ind_prod23': 25,\n",
       " 'ind_prod24': 25,\n",
       " 'ind_prod25': 25}"
      ]
     },
     "execution_count": 176,
     "metadata": {},
     "output_type": "execute_result"
    }
   ],
   "source": [
    "{prod:len(prods) for prod in prods}"
   ]
  },
  {
   "cell_type": "code",
   "execution_count": null,
   "metadata": {},
   "outputs": [],
   "source": []
  }
 ],
 "metadata": {
  "kernelspec": {
   "display_name": "base",
   "language": "python",
   "name": "python3"
  },
  "language_info": {
   "codemirror_mode": {
    "name": "ipython",
    "version": 3
   },
   "file_extension": ".py",
   "mimetype": "text/x-python",
   "name": "python",
   "nbconvert_exporter": "python",
   "pygments_lexer": "ipython3",
   "version": "3.9.12"
  },
  "orig_nbformat": 4
 },
 "nbformat": 4,
 "nbformat_minor": 2
}
